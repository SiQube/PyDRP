{
 "cells": [
  {
   "cell_type": "code",
   "execution_count": 1,
   "id": "e95ce804-78af-4430-8e3b-2d7b7ff6603b",
   "metadata": {},
   "outputs": [
    {
     "name": "stderr",
     "output_type": "stream",
     "text": [
      "<frozen importlib._bootstrap>:228: RuntimeWarning: scipy._lib.messagestream.MessageStream size changed, may indicate binary incompatibility. Expected 56 from C header, got 64 from PyObject\n"
     ]
    }
   ],
   "source": [
    "import pandas as pd\n",
    "import numpy as np\n",
    "import torch\n",
    "from torch import nn\n",
    "import torchmetrics\n",
    "from PyDRP.Data.features.cells import TensorLineFeaturizer\n",
    "from PyDRP.Data.features.targets import MinMaxScaling, IdentityPipeline\n",
    "from PyDRP.Data.utils import TorchLinesTransferDataset\n",
    "from PyDRP.Data.transfer.lines import GTEXPreprocessingPipeline, TransferLinesDatasetManager"
   ]
  },
  {
   "cell_type": "code",
   "execution_count": 2,
   "id": "61038ba1-954c-4961-bbab-1c57634bcabf",
   "metadata": {},
   "outputs": [
    {
     "name": "stderr",
     "output_type": "stream",
     "text": [
      "/home/pedro/Desktop/phd/SensitivityDatasets/DrugSensitivityDatasets/PyDRP/Data/transfer/lines/transfer_lines.py:82: SettingWithCopyWarning: \n",
      "A value is trying to be set on a copy of a slice from a DataFrame\n",
      "\n",
      "See the caveats in the documentation: https://pandas.pydata.org/pandas-docs/stable/user_guide/indexing.html#returning-a-view-versus-a-copy\n",
      "  labels[\"_primary_site\"][is_infrequent] = \"other\"\n"
     ]
    }
   ],
   "source": [
    "manager = TransferLinesDatasetManager(lines_processing_pipeline = GTEXPreprocessingPipeline(),\n",
    "                 target_processor = IdentityPipeline(),\n",
    "                 line_featurizer = TensorLineFeaturizer(),)"
   ]
  },
  {
   "cell_type": "code",
   "execution_count": 3,
   "id": "a118fc4c-05a0-4c0e-83c0-fda5e566e2c2",
   "metadata": {},
   "outputs": [],
   "source": [
    "train, test, val = manager.get_partition(1)"
   ]
  },
  {
   "cell_type": "code",
   "execution_count": 4,
   "id": "bd75e6c0-af3c-4685-ac8a-75407fac04d5",
   "metadata": {},
   "outputs": [],
   "source": [
    "line_dict = manager.get_cell_lines()"
   ]
  },
  {
   "cell_type": "code",
   "execution_count": 5,
   "id": "76ee7b42-024e-47d7-bff5-ff9fe3f69eb8",
   "metadata": {},
   "outputs": [],
   "source": [
    "train_dataset = TorchLinesTransferDataset(train, line_dict)\n",
    "test_dataset = TorchLinesTransferDataset(val, line_dict)"
   ]
  },
  {
   "cell_type": "code",
   "execution_count": 6,
   "id": "44fd8ff5-4094-4813-aca5-c0fe29aff2f5",
   "metadata": {},
   "outputs": [],
   "source": [
    "n_genes = train_dataset[0][0].shape[0]\n",
    "n_tasks = train_dataset[0][1].shape[0]"
   ]
  },
  {
   "cell_type": "code",
   "execution_count": 7,
   "id": "4213b8e8-ea63-448f-96e2-ea7f9197cffc",
   "metadata": {},
   "outputs": [],
   "source": [
    "\n",
    "train_dataloader = torch.utils.data.DataLoader(train_dataset, batch_size = 512, num_workers=8, shuffle=True)\n",
    "test_dataloader = torch.utils.data.DataLoader(test_dataset, batch_size = 512, num_workers=8, shuffle=False)"
   ]
  },
  {
   "cell_type": "code",
   "execution_count": 11,
   "id": "15c7b526-1a5d-494d-8d1c-5a93b7509dbc",
   "metadata": {},
   "outputs": [],
   "source": [
    "from layers import AutoEncoder\n",
    "\n",
    "def init_weights(m):\n",
    "    if isinstance(m, nn.Linear):\n",
    "        torch.nn.init.xavier_normal_(m.weight)\n",
    "\n",
    "ae = AutoEncoder(init_dim = n_genes, recon_dim = n_genes, target_dim = n_tasks, hidden_dim = 1024, output_dim=256, p1=0.0, p2=0.4)\n",
    "#ae.apply(init_weights)\n",
    "device = torch.device(\"cuda\")\n",
    "ae.to(device)\n",
    "mse = nn.MSELoss()\n",
    "bce = nn.BCEWithLogitsLoss()\n",
    "optim = torch.optim.Adam(ae.parameters(), 0.001)\n",
    "scheduler = torch.optim.lr_scheduler.ReduceLROnPlateau(optim, factor=0.75, patience = 50)"
   ]
  },
  {
   "cell_type": "code",
   "execution_count": 56,
   "id": "be1ba45f-344e-4f2f-82fc-cddde57d40a4",
   "metadata": {},
   "outputs": [
    {
     "data": {
      "text/plain": [
       "45"
      ]
     },
     "execution_count": 56,
     "metadata": {},
     "output_type": "execute_result"
    }
   ],
   "source": [
    "n_tasks"
   ]
  },
  {
   "cell_type": "code",
   "execution_count": null,
   "id": "b18df4a2-306e-4517-bd8a-540fb764b437",
   "metadata": {},
   "outputs": [],
   "source": [
    "from pprint import pprint\n",
    "metrics_clf = torchmetrics.MetricCollection([torchmetrics.AUROC(task='binary'), torchmetrics.Accuracy(task='binary')]).to(device)\n",
    "metrics_reg = torchmetrics.MetricCollection([torchmetrics.PearsonCorrCoef(num_outputs = n_genes), torchmetrics.MeanSquaredError()]).to(device)\n",
    "for epoch in range(1500):\n",
    "    metrics_clf.reset()\n",
    "    metrics_reg.reset()\n",
    "    ae.train()\n",
    "    log_epoch = (epoch+1)%10 == 0\n",
    "    for batch in train_dataloader:\n",
    "        reg_input = batch[0].to(device)\n",
    "        clf_output = batch[1].to(device).float()      \n",
    "        out_rec, out_clf = ae(reg_input)\n",
    "        if log_epoch:\n",
    "            metrics_clf.update(out_clf, clf_output.long())\n",
    "            metrics_reg.update(out_rec, reg_input)\n",
    "        m = mse(out_rec, reg_input)\n",
    "        b = bce(out_clf, clf_output)\n",
    "        (m + b + 0.0001 *ae.encoder.reg).backward()\n",
    "        optim.step()\n",
    "        optim.zero_grad()\n",
    "    if log_epoch:\n",
    "        metrics_train = {**metrics_clf.compute(), **metrics_reg.compute()}\n",
    "        metrics_train[\"PearsonCorrCoef\"] = metrics_train[\"PearsonCorrCoef\"].mean()\n",
    "        metrics_train = {it[0] + \"_train\":it[1].item() for it in metrics_train.items()}\n",
    "        metrics_train[\"regularization\"] = ae.encoder.reg\n",
    "    ae.eval()\n",
    "    if log_epoch:\n",
    "        for batch in test_dataloader:\n",
    "            with torch.no_grad():\n",
    "                reg_input = batch[0].to(device)\n",
    "                clf_output = batch[1].to(device).float()\n",
    "                out_rec, out_clf = ae(reg_input)\n",
    "                metrics_clf.update(out_clf, clf_output.long())\n",
    "                metrics_reg.update(out_rec, reg_input)\n",
    "        metrics_test = {**metrics_clf.compute(), **metrics_reg.compute()}\n",
    "        metrics_test[\"PearsonCorrCoef\"] = metrics_test[\"PearsonCorrCoef\"].mean()\n",
    "        metrics_test = {it[0] + \"_test\":it[1].item() for it in metrics_test.items()}\n",
    "    if log_epoch:\n",
    "        print(epoch)\n",
    "        pprint(metrics_train)\n",
    "        pprint(metrics_test)"
   ]
  },
  {
   "cell_type": "code",
   "execution_count": 35,
   "id": "3ff511e9-ecd6-4087-9c88-54cadf50b392",
   "metadata": {},
   "outputs": [],
   "source": [
    "gene_list = manager.ppl.get_cell_lines().columns"
   ]
  },
  {
   "cell_type": "code",
   "execution_count": 52,
   "id": "08acec30-cdf0-4075-9a74-98b63ddacd7b",
   "metadata": {},
   "outputs": [],
   "source": [
    "pd.Series(gene_list[(ae.encoder.encoder1[1].init_w > 0.1).detach().cpu().numpy().squeeze()].to_numpy()).to_csv(\"saved_weights/genes_encoder2.csv\")"
   ]
  },
  {
   "cell_type": "code",
   "execution_count": 53,
   "id": "d427cd1a-0e95-4d97-84b4-187be0221109",
   "metadata": {},
   "outputs": [],
   "source": [
    "torch.save(ae.encoder.state_dict(), \"saved_weights/genes_encoder2.pt\")"
   ]
  }
 ],
 "metadata": {
  "kernelspec": {
   "display_name": "mpi_python",
   "language": "python",
   "name": "mpi_python"
  },
  "language_info": {
   "codemirror_mode": {
    "name": "ipython",
    "version": 3
   },
   "file_extension": ".py",
   "mimetype": "text/x-python",
   "name": "python",
   "nbconvert_exporter": "python",
   "pygments_lexer": "ipython3",
   "version": "3.9.7"
  }
 },
 "nbformat": 4,
 "nbformat_minor": 5
}
