{
 "cells": [
  {
   "cell_type": "code",
   "execution_count": 1,
   "id": "ae3b7e8f-4066-4839-b863-fad4821cbe95",
   "metadata": {},
   "outputs": [
    {
     "name": "stderr",
     "output_type": "stream",
     "text": [
      "<frozen importlib._bootstrap>:228: RuntimeWarning: scipy._lib.messagestream.MessageStream size changed, may indicate binary incompatibility. Expected 56 from C header, got 64 from PyObject\n"
     ]
    }
   ],
   "source": [
    "import pandas as pd\n",
    "from PyDRP.Data import DatasetManager, GDSC\n",
    "from PyDRP.Data.features.drugs import GraphCreator\n",
    "from PyDRP.Data.features.cells import TensorLineFeaturizer\n",
    "from PyDRP.Data.features.targets import MinMaxScaling, IdentityPipeline\n",
    "from PyDRP.Data.utils import TorchGraphsDataset\n",
    "from PyDRP.Models.PairsNetwork import PairsNetwork\n",
    "from PyDRP.Models.encoders.drugs import GATmannEncoder\n",
    "from PyDRP.Models.encoders.cells import GeneExpEncoder\n",
    "from PyDRP.Models.decoders import FCDecoder,  NonlinearDotDecoder\n",
    "from PyDRP.Models.NNlayers import AttnDropout"
   ]
  },
  {
   "cell_type": "code",
   "execution_count": 2,
   "id": "97436cbb-c66a-49d4-8334-a7d81e26e605",
   "metadata": {},
   "outputs": [],
   "source": [
    "import os\n",
    "import numpy as np\n",
    "from torch import nn\n",
    "from torch_geometric import nn as gnn\n",
    "import torch\n",
    "import torch_geometric\n",
    "import torchmetrics"
   ]
  },
  {
   "cell_type": "code",
   "execution_count": 3,
   "id": "5a61f607-4fd8-481a-9bdc-62f90bae4f3a",
   "metadata": {},
   "outputs": [],
   "source": [
    "paccmann_genes = pd.read_csv(\"https://raw.githubusercontent.com/prassepaul/mlmed_ranking/main/data/gdsc_data/paccmann_gene_list.txt\", index_col=None, header=None).to_numpy().squeeze().tolist()"
   ]
  },
  {
   "cell_type": "code",
   "execution_count": 4,
   "id": "350c61a1-d40f-4569-9d49-1bd5645ce7cd",
   "metadata": {},
   "outputs": [],
   "source": [
    "manager = DatasetManager(processing_pipeline = GDSC(target = \"LN_IC50\",\n",
    "                                                    gene_subset = paccmann_genes,\n",
    "                                                    cell_lines = \"expression&mutation\"),\n",
    "                        target_processor = IdentityPipeline(),\n",
    "                        partition_column = \"CELL_ID\",\n",
    "                        k = 25,\n",
    "                        drug_featurizer = GraphCreator(),\n",
    "                        line_featurizer = TensorLineFeaturizer())"
   ]
  },
  {
   "cell_type": "code",
   "execution_count": 5,
   "id": "8a089795-2384-4560-a8c1-0315fd7c8c09",
   "metadata": {},
   "outputs": [],
   "source": [
    "train, val, test = manager.get_partition(0)"
   ]
  },
  {
   "cell_type": "code",
   "execution_count": 6,
   "id": "7f0e7c46-487e-4102-b868-a34bde15effe",
   "metadata": {},
   "outputs": [
    {
     "data": {
      "text/plain": [
       "tensor([3.8235, 4.7562, 3.2011,  ..., 0.0000, 0.0000, 0.0000])"
      ]
     },
     "execution_count": 6,
     "metadata": {},
     "output_type": "execute_result"
    }
   ],
   "source": [
    "line_dict = manager.get_cell_lines()\n",
    "line_dict[683667]"
   ]
  },
  {
   "cell_type": "code",
   "execution_count": 7,
   "id": "2c0d5531-ed5b-43a3-af9c-f14df7f8e01e",
   "metadata": {},
   "outputs": [],
   "source": [
    "drug_dict = manager.get_drugs()"
   ]
  },
  {
   "cell_type": "code",
   "execution_count": 8,
   "id": "d8e946de-680b-4766-92b6-231f718d068d",
   "metadata": {},
   "outputs": [],
   "source": [
    "train_dataset = TorchGraphsDataset(data=train,\n",
    "                   drug_dict = drug_dict,\n",
    "                   line_dict = line_dict)\n",
    "test_dataset = TorchGraphsDataset(data=test,\n",
    "                   drug_dict = drug_dict,\n",
    "                   line_dict = line_dict)\n",
    "n_dim = train_dataset[0][\"cell\"].shape[1]"
   ]
  },
  {
   "cell_type": "code",
   "execution_count": 9,
   "id": "8b0e5b54-e62f-403a-9be4-44fb21319cac",
   "metadata": {},
   "outputs": [],
   "source": [
    "class GNNDrugPooling(nn.Module):\n",
    "    def __init__(self,\n",
    "                 embed_dim,\n",
    "                 hidden_dim,\n",
    "                 output_embed_dim,\n",
    "                 p_dropout_attn = 0.0,\n",
    "                 p_dropout_nodes = 0.0,\n",
    "                 **kwargs):\n",
    "        super().__init__()\n",
    "        self.pool = gnn.GlobalAttention(nn.Sequential(nn.Linear(embed_dim, hidden_dim),\n",
    "                                                             nn.ReLU(),\n",
    "                                                             nn.Dropout(p_dropout_attn),\n",
    "                                                             nn.Linear(hidden_dim, 1),\n",
    "                                                             AttnDropout(p_dropout_nodes)),\n",
    "                                               nn.Sequential(nn.Linear(embed_dim, hidden_dim),\n",
    "                                                             nn.ReLU(),\n",
    "                                                             nn.Dropout(p_dropout_attn),\n",
    "                                                             nn.Linear(hidden_dim, output_embed_dim)))\n",
    "    def forward(self, x, batch):\n",
    "        return self.pool(x, batch)\n",
    "class GNNEncoderDecoder(PairsNetwork):\n",
    "    def __init__(self,\n",
    "                 line_encoder,\n",
    "                 drug_encoder,\n",
    "                 line_adapter,\n",
    "                 drug_adapter,\n",
    "                 decoder,\n",
    "                 **kwargs):\n",
    "        \"\"\"\n",
    "        Network consisting of two encoders, two adapters and a decoder.\n",
    "        The forward method has to be reimplemented.\n",
    "        \"\"\"\n",
    "        super().__init__()\n",
    "        self.line_encoder = line_encoder\n",
    "        self.drug_encoder = drug_encoder\n",
    "        self.line_adapter = line_adapter\n",
    "        self.drug_adapter = drug_adapter\n",
    "        self.decoder = decoder\n",
    "    def forward(self, data, *args, **kwargs):\n",
    "        x_lines = self.line_adapter(self.line_encoder(data[\"cell\"]))\n",
    "        x_drugs = self.drug_adapter(self.drug_encoder(data[\"x\"],\n",
    "                                                      data[\"edge_index\"],\n",
    "                                                      data[\"edge_attr\"]),\n",
    "                                    data[\"batch\"])\n",
    "        return self.decoder(x_lines, x_drugs)"
   ]
  },
  {
   "cell_type": "code",
   "execution_count": 10,
   "id": "b3a42d0d-ebdd-428d-bd07-4868ba33d999",
   "metadata": {},
   "outputs": [
    {
     "data": {
      "text/plain": [
       "GNNEncoderDecoder(\n",
       "  (line_encoder): GeneExpEncoder(\n",
       "    (do): Dropout(p=0.4, inplace=False)\n",
       "    (net): Sequential(\n",
       "      (0): Linear(in_features=3163, out_features=1024, bias=True)\n",
       "      (1): ReLU()\n",
       "      (2): Linear(in_features=1024, out_features=256, bias=True)\n",
       "    )\n",
       "  )\n",
       "  (drug_encoder): GATmannEncoder(\n",
       "    (gat_init): GATv2Conv(79, 256, heads=1)\n",
       "    (gat_layers): ModuleList(\n",
       "      (0): GATv2Conv(256, 256, heads=1)\n",
       "      (1): GATv2Conv(256, 256, heads=1)\n",
       "    )\n",
       "  )\n",
       "  (line_adapter): Identity()\n",
       "  (drug_adapter): GNNDrugPooling(\n",
       "    (pool): GlobalAttention(gate_nn=Sequential(\n",
       "      (0): Linear(in_features=256, out_features=1024, bias=True)\n",
       "      (1): ReLU()\n",
       "      (2): Dropout(p=0.0, inplace=False)\n",
       "      (3): Linear(in_features=1024, out_features=1, bias=True)\n",
       "      (4): AttnDropout(\n",
       "        (id): Identity()\n",
       "      )\n",
       "    ), nn=Sequential(\n",
       "      (0): Linear(in_features=256, out_features=1024, bias=True)\n",
       "      (1): ReLU()\n",
       "      (2): Dropout(p=0.0, inplace=False)\n",
       "      (3): Linear(in_features=1024, out_features=256, bias=True)\n",
       "    ))\n",
       "  )\n",
       "  (decoder): NonlinearDotDecoder(\n",
       "    (net_1): Sequential(\n",
       "      (0): Dropout(p=0.3, inplace=False)\n",
       "      (1): Linear(in_features=256, out_features=1024, bias=True)\n",
       "      (2): Sigmoid()\n",
       "      (3): Dropout(p=0.3, inplace=False)\n",
       "      (4): Linear(in_features=1024, out_features=64, bias=True)\n",
       "    )\n",
       "    (net_2): Sequential(\n",
       "      (0): Dropout(p=0.3, inplace=False)\n",
       "      (1): Linear(in_features=256, out_features=1024, bias=True)\n",
       "      (2): Sigmoid()\n",
       "      (3): Dropout(p=0.3, inplace=False)\n",
       "      (4): Linear(in_features=1024, out_features=64, bias=True)\n",
       "    )\n",
       "  )\n",
       ")"
      ]
     },
     "execution_count": 10,
     "metadata": {},
     "output_type": "execute_result"
    }
   ],
   "source": [
    "model = GNNEncoderDecoder(line_encoder = GeneExpEncoder(n_dim, 1024, 256, genes_do = 0.4),\n",
    "                         drug_encoder = GATmannEncoder(edge_features = drug_dict[\"5-Fluorouracil\"][\"edge_attr\"].shape[1],embed_dim = 256),\n",
    "                         line_adapter = nn.Identity(),\n",
    "                         drug_adapter = GNNDrugPooling(embed_dim = 256, hidden_dim = 1024, output_embed_dim=256),\n",
    "                         #decoder = FCDecoder(512, 1024, p_dropout_2 = 0.3))\n",
    "                         decoder = NonlinearDotDecoder(256, 1024, 64, p_dropout_1=0.3, p_dropout_2 = 0.3))\n",
    "optim = torch.optim.Adam(model.parameters(), 0.0001)\n",
    "device = torch.device(\"cuda\")\n",
    "model.to(device)"
   ]
  },
  {
   "cell_type": "code",
   "execution_count": 11,
   "id": "0a07dc6a-478a-47e7-a68e-81edd5680292",
   "metadata": {},
   "outputs": [],
   "source": [
    "train_dataloader = torch.utils.data.DataLoader(train_dataset, batch_size = 512,\n",
    "                                               collate_fn = torch_geometric.data.Batch.from_data_list, shuffle=True)\n",
    "test_dataloader = torch.utils.data.DataLoader(test_dataset, batch_size = 512,\n",
    "                                               collate_fn = torch_geometric.data.Batch.from_data_list)"
   ]
  },
  {
   "cell_type": "code",
   "execution_count": 12,
   "id": "4943dee2-f5bf-428b-9507-69f75f69adec",
   "metadata": {},
   "outputs": [],
   "source": [
    "from PyDRP.Models.metrics import ElementwiseMetric"
   ]
  },
  {
   "cell_type": "code",
   "execution_count": 13,
   "id": "be7f53a1-3075-47d6-9d75-acbc2137eca4",
   "metadata": {},
   "outputs": [
    {
     "ename": "TypeError",
     "evalue": "print() takes at most 4 keyword arguments (6 given)",
     "output_type": "error",
     "traceback": [
      "\u001b[0;31m---------------------------------------------------------------------------\u001b[0m",
      "\u001b[0;31mTypeError\u001b[0m                                 Traceback (most recent call last)",
      "\u001b[0;32m/tmp/ipykernel_168449/113885930.py\u001b[0m in \u001b[0;36m<module>\u001b[0;34m\u001b[0m\n\u001b[1;32m     30\u001b[0m     \u001b[0mmetric_dict_train\u001b[0m\u001b[0;34m[\u001b[0m\u001b[0;34m\"R_average_test\"\u001b[0m\u001b[0;34m]\u001b[0m \u001b[0;34m=\u001b[0m \u001b[0melm\u001b[0m\u001b[0;34m.\u001b[0m\u001b[0mcompute\u001b[0m\u001b[0;34m(\u001b[0m\u001b[0;34m)\u001b[0m\u001b[0;34m.\u001b[0m\u001b[0mitem\u001b[0m\u001b[0;34m(\u001b[0m\u001b[0;34m)\u001b[0m\u001b[0;34m\u001b[0m\u001b[0;34m\u001b[0m\u001b[0m\n\u001b[1;32m     31\u001b[0m     \u001b[0mmetric_dict\u001b[0m \u001b[0;34m=\u001b[0m \u001b[0;34m{\u001b[0m\u001b[0;34m**\u001b[0m\u001b[0mmetric_dict_test\u001b[0m\u001b[0;34m,\u001b[0m \u001b[0;34m**\u001b[0m\u001b[0mmetric_dict_train\u001b[0m\u001b[0;34m}\u001b[0m\u001b[0;34m\u001b[0m\u001b[0;34m\u001b[0m\u001b[0m\n\u001b[0;32m---> 32\u001b[0;31m     \u001b[0mprint\u001b[0m\u001b[0;34m(\u001b[0m\u001b[0;34mf\"epoch {epoch}\"\u001b[0m\u001b[0;34m,\u001b[0m \u001b[0;34m**\u001b[0m\u001b[0mmetric_dict\u001b[0m\u001b[0;34m)\u001b[0m\u001b[0;34m\u001b[0m\u001b[0;34m\u001b[0m\u001b[0m\n\u001b[0m",
      "\u001b[0;31mTypeError\u001b[0m: print() takes at most 4 keyword arguments (6 given)"
     ]
    }
   ],
   "source": [
    "mse = nn.MSELoss()\n",
    "metrics = torchmetrics.MetricCollection([torchmetrics.MeanSquaredError(), torchmetrics.PearsonCorrCoef()]).to(device)\n",
    "elm = ElementwiseMetric(average=\"drugs\")\n",
    "for epoch in range(10):\n",
    "    model.train()\n",
    "    elm.reset()\n",
    "    metrics.reset()\n",
    "    for b in train_dataloader:\n",
    "        b = b.to(device)\n",
    "        y_pred = model(b)\n",
    "        l = mse(y_pred.squeeze(), b[\"y\"].squeeze())\n",
    "        l.backward()\n",
    "        optim.step()\n",
    "        with torch.no_grad():\n",
    "            metrics.update(y_pred.squeeze(), b[\"y\"].squeeze())\n",
    "            elm.update(y_pred.squeeze(), b[\"y\"].squeeze(), b[\"DRUG_ID\"], b[\"CELL_ID\"])\n",
    "        optim.zero_grad()\n",
    "    metric_dict_train = {it[0] + \"_train\":it[1].cpu().item() for it in metrics.compute().items()}\n",
    "    metric_dict_train[\"R_average_train\"] = elm.compute().item()\n",
    "    model.eval()\n",
    "    metrics.reset()\n",
    "    elm.reset()\n",
    "    with torch.no_grad():\n",
    "        for b in test_dataloader:\n",
    "            b = b.to(device)\n",
    "            y_pred = model(b)\n",
    "            metrics.update(y_pred.squeeze(), b[\"y\"].squeeze())\n",
    "            elm.update(y_pred.squeeze(), b[\"y\"].squeeze(), b[\"DRUG_ID\"], b[\"CELL_ID\"])\n",
    "    metric_dict_test = {it[0] + \"_test\":it[1].cpu().item() for it in metrics.compute().items()}\n",
    "    metric_dict_train[\"R_average_test\"] = elm.compute().item()\n",
    "    metric_dict = {**metric_dict_test, **metric_dict_train}\n",
    "    print(f\"epoch {epoch}\", **metric_dict)"
   ]
  },
  {
   "cell_type": "code",
   "execution_count": null,
   "id": "25f375e2-a14b-49ed-b63b-0a77f156d95a",
   "metadata": {},
   "outputs": [],
   "source": []
  }
 ],
 "metadata": {
  "kernelspec": {
   "display_name": "mpi_python",
   "language": "python",
   "name": "mpi_python"
  },
  "language_info": {
   "codemirror_mode": {
    "name": "ipython",
    "version": 3
   },
   "file_extension": ".py",
   "mimetype": "text/x-python",
   "name": "python",
   "nbconvert_exporter": "python",
   "pygments_lexer": "ipython3",
   "version": "3.9.7"
  }
 },
 "nbformat": 4,
 "nbformat_minor": 5
}
