{
 "cells": [
  {
   "cell_type": "code",
   "execution_count": 1,
   "id": "ae3b7e8f-4066-4839-b863-fad4821cbe95",
   "metadata": {},
   "outputs": [
    {
     "name": "stderr",
     "output_type": "stream",
     "text": [
      "<frozen importlib._bootstrap>:228: RuntimeWarning: scipy._lib.messagestream.MessageStream size changed, may indicate binary incompatibility. Expected 56 from C header, got 64 from PyObject\n"
     ]
    }
   ],
   "source": [
    "from PyDRP.Data import DatasetManager, GDSC\n",
    "from PyDRP.Data.features.drugs import GraphCreator\n",
    "from PyDRP.Data.features.cells import TensorLineFeaturizer\n",
    "from PyDRP.Data.features.targets import MinMaxScaling, IdentityPipeline\n",
    "from PyDRP.Data.utils import TorchGraphsDataset\n",
    "from PyDRP.Models.PairsNetwork import PairsNetwork, GNNCellDrugEncoderDecoder\n",
    "from PyDRP.Models.encoders.drugs import GATmannEncoder, GNNAttnDrugPooling\n",
    "from PyDRP.Models.encoders.cells import GeneExpEncoder\n",
    "from PyDRP.Models.decoders import FCDecoder,  NonlinearDotDecoder\n",
    "from PyDRP.Models.NNlayers import AttnDropout\n",
    "from PyDRP.Models.metrics import ElementwiseMetric"
   ]
  },
  {
   "cell_type": "code",
   "execution_count": 2,
   "id": "97436cbb-c66a-49d4-8334-a7d81e26e605",
   "metadata": {},
   "outputs": [],
   "source": [
    "import pandas as pd\n",
    "from pprint import pprint\n",
    "import os\n",
    "import numpy as np\n",
    "from torch import nn\n",
    "from torch_geometric import nn as gnn\n",
    "import torch\n",
    "import torch_geometric\n",
    "import torchmetrics"
   ]
  },
  {
   "cell_type": "code",
   "execution_count": 3,
   "id": "5a61f607-4fd8-481a-9bdc-62f90bae4f3a",
   "metadata": {},
   "outputs": [],
   "source": [
    "paccmann_genes = pd.read_csv(\"https://raw.githubusercontent.com/prassepaul/mlmed_ranking/main/data/gdsc_data/paccmann_gene_list.txt\", index_col=None, header=None).to_numpy().squeeze().tolist()"
   ]
  },
  {
   "cell_type": "code",
   "execution_count": 4,
   "id": "350c61a1-d40f-4569-9d49-1bd5645ce7cd",
   "metadata": {},
   "outputs": [],
   "source": [
    "manager = DatasetManager(processing_pipeline = GDSC(target = \"LN_IC50\",\n",
    "                                                    gene_subset = paccmann_genes,\n",
    "                                                    cell_lines = \"expression\"),\n",
    "                        target_processor = IdentityPipeline(),\n",
    "                        partition_column = \"DRUG_ID\",\n",
    "                        k = 25,\n",
    "                        drug_featurizer = GraphCreator(),\n",
    "                        line_featurizer = TensorLineFeaturizer())"
   ]
  },
  {
   "cell_type": "code",
   "execution_count": 5,
   "id": "7f0e7c46-487e-4102-b868-a34bde15effe",
   "metadata": {},
   "outputs": [],
   "source": [
    "train, val, test = manager.get_partition(0)\n",
    "line_dict = manager.get_cell_lines()\n",
    "drug_dict = manager.get_drugs()"
   ]
  },
  {
   "cell_type": "code",
   "execution_count": 6,
   "id": "d8e946de-680b-4766-92b6-231f718d068d",
   "metadata": {},
   "outputs": [],
   "source": [
    "train_dataset = TorchGraphsDataset(data=train,\n",
    "                   drug_dict = drug_dict,\n",
    "                   line_dict = line_dict)\n",
    "test_dataset = TorchGraphsDataset(data=test,\n",
    "                   drug_dict = drug_dict,\n",
    "                   line_dict = line_dict)\n",
    "n_dim = train_dataset[0][\"cell\"].shape[1]"
   ]
  },
  {
   "cell_type": "code",
   "execution_count": 7,
   "id": "b3a42d0d-ebdd-428d-bd07-4868ba33d999",
   "metadata": {},
   "outputs": [],
   "source": [
    "model = GNNCellDrugEncoderDecoder(line_encoder = GeneExpEncoder(n_dim, 1024, 256, genes_do = 0.4),\n",
    "                         drug_encoder = GATmannEncoder(edge_features = drug_dict[\"5-Fluorouracil\"][\"edge_attr\"].shape[1],embed_dim = 256),\n",
    "                         line_adapter = nn.Identity(),\n",
    "                         drug_adapter = GNNAttnDrugPooling(embed_dim = 256, hidden_dim = 1024, output_embed_dim=256),\n",
    "                         decoder = FCDecoder(512, 1024, p_dropout_2 = 0.3))\n",
    "                         #decoder = NonlinearDotDecoder(256, 1024, 64, p_dropout_1=0.3, p_dropout_2 = 0.3))\n",
    "optim = torch.optim.Adam(model.parameters(), 0.0001)\n",
    "device = torch.device(\"cuda\")\n",
    "model.to(device)\n",
    "train_dataloader = torch.utils.data.DataLoader(train_dataset, batch_size = 512,\n",
    "                                               collate_fn = torch_geometric.data.Batch.from_data_list, shuffle=True)\n",
    "test_dataloader = torch.utils.data.DataLoader(test_dataset, batch_size = 512,\n",
    "                                               collate_fn = torch_geometric.data.Batch.from_data_list)"
   ]
  },
  {
   "cell_type": "code",
   "execution_count": null,
   "id": "be7f53a1-3075-47d6-9d75-acbc2137eca4",
   "metadata": {},
   "outputs": [
    {
     "name": "stdout",
     "output_type": "stream",
     "text": [
      "epoch 0\n",
      "{'MeanSquaredError_test': 14.591248512268066,\n",
      " 'MeanSquaredError_train': 5.1743927001953125,\n",
      " 'PearsonCorrCoef_test': 0.1492098569869995,\n",
      " 'PearsonCorrCoef_train': 0.5079371333122253,\n",
      " 'R_average_test': 0.33869847655296326,\n",
      " 'R_average_train': 0.08139122277498245}\n"
     ]
    }
   ],
   "source": [
    "mse = nn.MSELoss()\n",
    "metrics = torchmetrics.MetricCollection([torchmetrics.MeanSquaredError(), torchmetrics.PearsonCorrCoef()]).to(device)\n",
    "elm = ElementwiseMetric(average=\"drugs\")\n",
    "for epoch in range(2):\n",
    "    model.train()\n",
    "    elm.reset()\n",
    "    metrics.reset()\n",
    "    for b in train_dataloader:\n",
    "        b = b.to(device)\n",
    "        y_pred = model(b)\n",
    "        l = mse(y_pred.squeeze(), b[\"y\"].squeeze())\n",
    "        l.backward()\n",
    "        optim.step()\n",
    "        with torch.no_grad():\n",
    "            metrics.update(y_pred.squeeze(), b[\"y\"].squeeze())\n",
    "            elm.update(y_pred.squeeze(), b[\"y\"].squeeze(), b[\"DRUG_ID\"], b[\"CELL_ID\"])\n",
    "        optim.zero_grad()\n",
    "    metric_dict_train = {it[0] + \"_train\":it[1].cpu().item() for it in metrics.compute().items()}\n",
    "    metric_dict_train[\"R_average_train\"] = elm.compute().item()\n",
    "    model.eval()\n",
    "    metrics.reset()\n",
    "    elm.reset()\n",
    "    with torch.no_grad():\n",
    "        for b in test_dataloader:\n",
    "            b = b.to(device)\n",
    "            y_pred = model(b)\n",
    "            metrics.update(y_pred.squeeze(), b[\"y\"].squeeze())\n",
    "            elm.update(y_pred.squeeze(), b[\"y\"].squeeze(), b[\"DRUG_ID\"], b[\"CELL_ID\"])\n",
    "    metric_dict_test = {it[0] + \"_test\":it[1].cpu().item() for it in metrics.compute().items()}\n",
    "    metric_dict_train[\"R_average_test\"] = elm.compute().item()\n",
    "    metric_dict = {**metric_dict_test, **metric_dict_train}\n",
    "    print(f\"epoch {epoch}\")\n",
    "    pprint(metric_dict)"
   ]
  }
 ],
 "metadata": {
  "kernelspec": {
   "display_name": "mpi_python",
   "language": "python",
   "name": "mpi_python"
  },
  "language_info": {
   "codemirror_mode": {
    "name": "ipython",
    "version": 3
   },
   "file_extension": ".py",
   "mimetype": "text/x-python",
   "name": "python",
   "nbconvert_exporter": "python",
   "pygments_lexer": "ipython3",
   "version": "3.9.7"
  }
 },
 "nbformat": 4,
 "nbformat_minor": 5
}
