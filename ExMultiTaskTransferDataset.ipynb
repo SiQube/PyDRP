{
 "cells": [
  {
   "cell_type": "code",
   "execution_count": 1,
   "id": "7ba73b41-12f3-4177-959e-819bf4efa1af",
   "metadata": {},
   "outputs": [],
   "source": [
    "import tdc\n",
    "import torch\n",
    "import torch_geometric\n",
    "import pandas as pd\n",
    "import rdkit.Chem\n",
    "import numpy as np\n",
    "from tdc import single_pred\n",
    "import tdc"
   ]
  },
  {
   "cell_type": "code",
   "execution_count": 2,
   "id": "3cb7ac41-8ec5-4b44-ad31-893bac9d08ee",
   "metadata": {},
   "outputs": [],
   "source": [
    "from PyDRP.Data.transfer.drugs import ToxRicPreprocessingPipeline, TransferDrugsDatasetManager, TDCSingleInstanceWrapper, MultiTaskPreprocessingPipeline, MakeDrugwise\n",
    "from PyDRP.Data.features.targets import MultitargetMinMaxScaling\n",
    "from PyDRP.Data.features.drugs import GraphCreator\n",
    "from PyDRP.Data.utils import TorchGraphsTransferDataset\n",
    "from PyDRP.Data import NI60"
   ]
  },
  {
   "cell_type": "code",
   "execution_count": 3,
   "id": "84e327a9-0f46-44b1-9f39-09ad1221eeae",
   "metadata": {},
   "outputs": [
    {
     "name": "stderr",
     "output_type": "stream",
     "text": [
      "Found local copy...\n",
      "Loading...\n",
      "Done!\n",
      "Found local copy...\n",
      "Loading...\n",
      "Done!\n"
     ]
    }
   ],
   "source": [
    "ppls = [TDCSingleInstanceWrapper(single_pred.Tox(name=\"Tox21\", label_name = \"NR-AR\")),\n",
    "       TDCSingleInstanceWrapper(single_pred.Tox(name=\"Tox21\", label_name = \"NR-AhR\")),\n",
    "       MakeDrugwise(NI60()),\n",
    "       ToxRicPreprocessingPipeline()]"
   ]
  },
  {
   "cell_type": "code",
   "execution_count": 4,
   "id": "704836ab-41ae-40c4-add3-b1d3a6aa760e",
   "metadata": {},
   "outputs": [],
   "source": [
    "manager = TransferDrugsDatasetManager(drugs_processing_pipeline = MultiTaskPreprocessingPipeline(ppls),\n",
    "                           target_processor = MultitargetMinMaxScaling(),\n",
    "                           drug_featurizer = GraphCreator(),\n",
    "                           k = 25)"
   ]
  },
  {
   "cell_type": "code",
   "execution_count": null,
   "id": "9f4a956f-1887-426c-8f2e-c6cdf3ced138",
   "metadata": {},
   "outputs": [],
   "source": [
    "drug_dict = manager.get_drugs()"
   ]
  },
  {
   "cell_type": "code",
   "execution_count": 6,
   "id": "19ad9ce5-7188-4eb7-bb3b-336f930b9e05",
   "metadata": {},
   "outputs": [],
   "source": [
    "train, test, val = manager.get_partition(1)\n",
    "train_dataset = TorchGraphsTransferDataset(train, drug_dict)\n",
    "val_dataset = TorchGraphsTransferDataset(val, drug_dict)\n",
    "train_dataloader = torch.utils.data.DataLoader(train_dataset, batch_size = 512,\n",
    "                                               collate_fn = torch_geometric.data.Batch.from_data_list, shuffle=True)\n",
    "test_dataloader = torch.utils.data.DataLoader(val_dataset, batch_size = 512,\n",
    "                                               collate_fn = torch_geometric.data.Batch.from_data_list)"
   ]
  }
 ],
 "metadata": {
  "kernelspec": {
   "display_name": "mpi_python",
   "language": "python",
   "name": "mpi_python"
  },
  "language_info": {
   "codemirror_mode": {
    "name": "ipython",
    "version": 3
   },
   "file_extension": ".py",
   "mimetype": "text/x-python",
   "name": "python",
   "nbconvert_exporter": "python",
   "pygments_lexer": "ipython3",
   "version": "3.9.7"
  }
 },
 "nbformat": 4,
 "nbformat_minor": 5
}
