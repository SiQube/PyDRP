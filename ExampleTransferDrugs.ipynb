{
 "cells": [
  {
   "cell_type": "code",
   "execution_count": 1,
   "id": "98892eaa-dc1f-48a6-b12b-b74e58db3d90",
   "metadata": {},
   "outputs": [
    {
     "name": "stderr",
     "output_type": "stream",
     "text": [
      "<frozen importlib._bootstrap>:228: RuntimeWarning: scipy._lib.messagestream.MessageStream size changed, may indicate binary incompatibility. Expected 56 from C header, got 64 from PyObject\n"
     ]
    }
   ],
   "source": [
    "import pandas as pd\n",
    "import requests\n",
    "import io\n",
    "import numpy as np\n",
    "import pickle\n",
    "import os\n",
    "import torch\n",
    "import torch_geometric\n",
    "from torch import nn\n",
    "from torch.nn import functional as F\n",
    "from torch_geometric import nn as gnn\n",
    "import torchmetrics\n",
    "from tdc import single_pred"
   ]
  },
  {
   "cell_type": "code",
   "execution_count": 2,
   "id": "ae3e31c7-26a3-46f8-9427-a1b92cefde43",
   "metadata": {},
   "outputs": [],
   "source": [
    "from PyDRP.Data import PreprocessingPipeline\n",
    "from PyDRP.src import Splitter\n",
    "from PyDRP.Data.features.targets import MultitargetMinMaxScaling\n",
    "from PyDRP.Data.features.drugs import GraphCreator\n",
    "from PyDRP.Data.transfer.drugs import ToxRicPreprocessingPipeline, TransferDrugsDatasetManager,  TDCSingleInstanceWrapper, MultiTaskPreprocessingPipeline, MakeDrugwise\n",
    "from PyDRP.Data.utils import TorchGraphsTransferDataset\n",
    "from PyDRP.Models.PairsNetwork import GNNDrugEncoderDecoder\n",
    "from PyDRP.Models.layers import FCBlock\n",
    "from PyDRP.Models.encoders.drugs import GTEncoder, GNNAttnDrugPooling\n",
    "from PyDRP.Models.layers import AttnDropout\n",
    "from PyDRP.Data import NI60"
   ]
  },
  {
   "cell_type": "code",
   "execution_count": 3,
   "id": "9ebf9c72-dc8a-43b3-8c43-6d355aeb139e",
   "metadata": {},
   "outputs": [
    {
     "name": "stderr",
     "output_type": "stream",
     "text": [
      "Found local copy...\n",
      "Loading...\n",
      "Done!\n",
      "Found local copy...\n",
      "Loading...\n",
      "Done!\n"
     ]
    }
   ],
   "source": [
    "ppls = [TDCSingleInstanceWrapper(single_pred.Tox(name=\"Tox21\", label_name = \"NR-AR\")),\n",
    "       TDCSingleInstanceWrapper(single_pred.Tox(name=\"Tox21\", label_name = \"NR-AhR\")),\n",
    "       MakeDrugwise(NI60()),\n",
    "       ToxRicPreprocessingPipeline()]"
   ]
  },
  {
   "cell_type": "code",
   "execution_count": 4,
   "id": "4a34e90a-8f3e-4574-bb8e-1a9e82ced859",
   "metadata": {},
   "outputs": [],
   "source": [
    "manager = TransferDrugsDatasetManager(drugs_processing_pipeline =  MultiTaskPreprocessingPipeline(ppls),\n",
    "                           target_processor = MultitargetMinMaxScaling(),\n",
    "                           drug_featurizer = GraphCreator())"
   ]
  },
  {
   "cell_type": "code",
   "execution_count": 5,
   "id": "353ad20f-56c1-447f-a204-bdfbf0318952",
   "metadata": {},
   "outputs": [],
   "source": [
    "drug_dict = manager.get_drugs()\n",
    "train, test, val = manager.get_partition(1)\n",
    "train_dataset = TorchGraphsTransferDataset(train, drug_dict)\n",
    "val_dataset = TorchGraphsTransferDataset(val, drug_dict)\n",
    "train_dataloader = torch.utils.data.DataLoader(train_dataset, batch_size = 512,\n",
    "                                               collate_fn = torch_geometric.data.Batch.from_data_list, shuffle=True)\n",
    "test_dataloader = torch.utils.data.DataLoader(val_dataset, batch_size = 512,\n",
    "                                               collate_fn = torch_geometric.data.Batch.from_data_list)"
   ]
  },
  {
   "cell_type": "code",
   "execution_count": 6,
   "id": "f9609d68-2725-4194-841c-fe981e79259e",
   "metadata": {},
   "outputs": [
    {
     "data": {
      "text/plain": [
       "GNNDrugEncoderDecoder(\n",
       "  (drug_encoder): GTEncoder(\n",
       "    (init_gat): GATConv(79, 256, heads=1)\n",
       "    (layers): GatedGNNRes(\n",
       "      (layers): ModuleList(\n",
       "        (0): TransGAT(\n",
       "          (k): GATv2Conv(512, 256, heads=1)\n",
       "          (v): GATv2Conv(256, 256, heads=1)\n",
       "          (q): GATv2Conv(512, 256, heads=1)\n",
       "          (pool): MultiheadAttention(\n",
       "            (out_proj): NonDynamicallyQuantizableLinear(in_features=256, out_features=256, bias=True)\n",
       "          )\n",
       "        )\n",
       "        (1): TransGAT(\n",
       "          (k): GATv2Conv(512, 256, heads=1)\n",
       "          (v): GATv2Conv(256, 256, heads=1)\n",
       "          (q): GATv2Conv(512, 256, heads=1)\n",
       "          (pool): MultiheadAttention(\n",
       "            (out_proj): NonDynamicallyQuantizableLinear(in_features=256, out_features=256, bias=True)\n",
       "          )\n",
       "        )\n",
       "      )\n",
       "    )\n",
       "  )\n",
       "  (drug_adapter): GNNAttnDrugPooling(\n",
       "    (pool): GlobalAttention(gate_nn=Sequential(\n",
       "      (0): Linear(in_features=256, out_features=1024, bias=True)\n",
       "      (1): ReLU()\n",
       "      (2): Dropout(p=0.0, inplace=False)\n",
       "      (3): Linear(in_features=1024, out_features=1, bias=True)\n",
       "      (4): AttnDropout(\n",
       "        (id): Identity()\n",
       "      )\n",
       "    ), nn=Sequential(\n",
       "      (0): Linear(in_features=256, out_features=1024, bias=True)\n",
       "      (1): ReLU()\n",
       "      (2): Dropout(p=0.0, inplace=False)\n",
       "      (3): Linear(in_features=1024, out_features=256, bias=True)\n",
       "    ))\n",
       "  )\n",
       "  (decoder): FCBlock(\n",
       "    (nw): Sequential(\n",
       "      (0): ReLU()\n",
       "      (1): Dropout(p=0.0, inplace=False)\n",
       "      (2): Linear(in_features=256, out_features=2048, bias=True)\n",
       "      (3): Sigmoid()\n",
       "      (4): Linear(in_features=2048, out_features=94, bias=True)\n",
       "    )\n",
       "  )\n",
       ")"
      ]
     },
     "execution_count": 6,
     "metadata": {},
     "output_type": "execute_result"
    }
   ],
   "source": [
    "model = GNNDrugEncoderDecoder(drug_encoder = GTEncoder(embed_dim = 256),\n",
    "                         drug_adapter = GNNAttnDrugPooling(embed_dim = 256, hidden_dim = 1024, output_embed_dim=256),\n",
    "                         decoder = FCBlock(input_dim = 256, hidden_dim = 2048, output_dim = 94, outp_dropout = 0.4))\n",
    "optim = torch.optim.Adam(model.parameters(), 0.0005)\n",
    "device = torch.device(\"cuda\")\n",
    "model.to(device)"
   ]
  },
  {
   "cell_type": "code",
   "execution_count": 7,
   "id": "4915937c-bd1a-443d-98ab-ba308da56146",
   "metadata": {},
   "outputs": [
    {
     "name": "stdout",
     "output_type": "stream",
     "text": [
      "epoch 0\n",
      "{'MeanSquaredError_test': 0.04631167650222778, 'PearsonCorrCoef_test': 0.8108320236206055, 'MeanSquaredError_train': 0.05116969347000122, 'PearsonCorrCoef_train': 0.7881336212158203}\n",
      "epoch 1\n",
      "{'MeanSquaredError_test': 0.04392028972506523, 'PearsonCorrCoef_test': 0.8226858377456665, 'MeanSquaredError_train': 0.04532036930322647, 'PearsonCorrCoef_train': 0.8130165934562683}\n"
     ]
    }
   ],
   "source": [
    "mse = nn.MSELoss()\n",
    "metrics = torchmetrics.MetricCollection([torchmetrics.MeanSquaredError(), torchmetrics.PearsonCorrCoef()]).to(device)\n",
    "for epoch in range(2):\n",
    "    model.train()\n",
    "    metrics.reset()\n",
    "    for b in train_dataloader:\n",
    "        b = b.to(device)\n",
    "        y_pred = model(b)\n",
    "        is_data = ~(b[\"y\"].squeeze().isnan())\n",
    "        l = mse(y_pred.squeeze()[is_data], b[\"y\"].squeeze()[is_data])\n",
    "        l.backward()\n",
    "        optim.step()\n",
    "        with torch.no_grad():\n",
    "            metrics.update(y_pred.squeeze()[is_data], b[\"y\"].squeeze()[is_data])\n",
    "        optim.zero_grad()\n",
    "    metric_dict_train = {it[0] + \"_train\":it[1].cpu().item() for it in metrics.compute().items()}\n",
    "    model.eval()\n",
    "    metrics.reset()\n",
    "    with torch.no_grad():\n",
    "        for b in test_dataloader:\n",
    "            b = b.to(device)\n",
    "            y_pred = model(b)\n",
    "            is_data = ~(b[\"y\"].squeeze().isnan())\n",
    "            metrics.update(y_pred.squeeze()[is_data], b[\"y\"].squeeze()[is_data])\n",
    "    metric_dict_test = {it[0] + \"_test\":it[1].cpu().item() for it in metrics.compute().items()}\n",
    "    metric_dict = {**metric_dict_test, **metric_dict_train}\n",
    "    print(f\"epoch {epoch}\")\n",
    "    print(metric_dict)"
   ]
  },
  {
   "cell_type": "code",
   "execution_count": 8,
   "id": "94e8d3be-8d1f-40a6-ac62-7a8f10da2dec",
   "metadata": {},
   "outputs": [],
   "source": [
    "torch.save(model.drug_encoder.state_dict(), \"saved_weights/drug_encoder_multitask.pt\")"
   ]
  },
  {
   "cell_type": "code",
   "execution_count": 9,
   "id": "00cd6426-2d72-4ad6-9893-84d4ea5227ad",
   "metadata": {},
   "outputs": [],
   "source": [
    "torch.save(model.drug_adapter.state_dict(), \"saved_weights/drug_adapter_multitask.pt\")"
   ]
  }
 ],
 "metadata": {
  "kernelspec": {
   "display_name": "mpi_python",
   "language": "python",
   "name": "mpi_python"
  },
  "language_info": {
   "codemirror_mode": {
    "name": "ipython",
    "version": 3
   },
   "file_extension": ".py",
   "mimetype": "text/x-python",
   "name": "python",
   "nbconvert_exporter": "python",
   "pygments_lexer": "ipython3",
   "version": "3.9.7"
  }
 },
 "nbformat": 4,
 "nbformat_minor": 5
}
