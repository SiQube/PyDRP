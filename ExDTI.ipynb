{
 "cells": [
  {
   "cell_type": "code",
   "execution_count": 1,
   "id": "322b00c5-5062-4ef8-ab19-c4438080605c",
   "metadata": {},
   "outputs": [],
   "source": [
    "from tdc.multi_pred import DTI\n",
    "import re\n",
    "import torch\n",
    "import numpy as np\n",
    "from PyDRP.Data.features.targets import MinMaxScaling\n",
    "from PyDRP.Data.features.drugs import GraphCreator\n",
    "from PyDRP.Data.features.proteins import BertProteinFeaturizer\n",
    "from PyDRP.Data import DTIDatasetManager, TDCDTIWrapper\n",
    "import pandas as pd"
   ]
  },
  {
   "cell_type": "code",
   "execution_count": 2,
   "id": "c1f86681-ba26-4cf4-859e-27dd639728cf",
   "metadata": {},
   "outputs": [
    {
     "name": "stderr",
     "output_type": "stream",
     "text": [
      "Found local copy...\n",
      "Loading...\n",
      "Done!\n",
      "Some weights of the model checkpoint at Rostlab/prot_bert were not used when initializing BertForMaskedLM: ['cls.seq_relationship.weight', 'cls.seq_relationship.bias']\n",
      "- This IS expected if you are initializing BertForMaskedLM from the checkpoint of a model trained on another task or with another architecture (e.g. initializing a BertForSequenceClassification model from a BertForPreTraining model).\n",
      "- This IS NOT expected if you are initializing BertForMaskedLM from the checkpoint of a model that you expect to be exactly identical (initializing a BertForSequenceClassification model from a BertForSequenceClassification model).\n"
     ]
    }
   ],
   "source": [
    "manager = DTIDatasetManager(TDCDTIWrapper(DTI(name = 'BindingDB_Kd')),\n",
    "                 MinMaxScaling(),\n",
    "                 GraphCreator(),\n",
    "                 BertProteinFeaturizer(),\n",
    "                 partition_column=\"PROTEIN_ID\")"
   ]
  },
  {
   "cell_type": "code",
   "execution_count": 3,
   "id": "87cfe96b-8bb3-4a95-a163-ac3d93127d5a",
   "metadata": {},
   "outputs": [],
   "source": [
    "protein_dict = manager.get_proteins()"
   ]
  },
  {
   "cell_type": "code",
   "execution_count": 5,
   "id": "f36360ee-e49c-422d-b1c9-3d5d87dab619",
   "metadata": {},
   "outputs": [],
   "source": [
    "drug_dict = manager.get_drugs()"
   ]
  }
 ],
 "metadata": {
  "kernelspec": {
   "display_name": "mpi_python",
   "language": "python",
   "name": "mpi_python"
  },
  "language_info": {
   "codemirror_mode": {
    "name": "ipython",
    "version": 3
   },
   "file_extension": ".py",
   "mimetype": "text/x-python",
   "name": "python",
   "nbconvert_exporter": "python",
   "pygments_lexer": "ipython3",
   "version": "3.9.7"
  }
 },
 "nbformat": 4,
 "nbformat_minor": 5
}
