{
 "cells": [
  {
   "cell_type": "code",
   "execution_count": 1,
   "id": "322b00c5-5062-4ef8-ab19-c4438080605c",
   "metadata": {},
   "outputs": [],
   "source": [
    "from tdc.multi_pred import DTI\n",
    "import re\n",
    "import torch\n",
    "import numpy as np\n",
    "from PyDRP.Data.features.targets import LogMinMaxScaling\n",
    "from PyDRP.Data.features.drugs import GraphCreator\n",
    "from PyDRP.Data.features.proteins import BertProteinFeaturizer\n",
    "from PyDRP.Data import DTIDatasetManager, TDCDTIWrapper\n",
    "from PyDRP.Data.utils import TorchProteinsGraphsDataset\n",
    "from PyDRP.Models import GNNProteinDrugEncoderDecoder\n",
    "from PyDRP.Models.encoders.drugs import GTEncoder, GNNAttnDrugPooling\n",
    "from PyDRP.Models.encoders.proteins import ProteinConvPooling\n",
    "from PyDRP.Models.decoders import FCDecoder,  NonlinearDotDecoder\n",
    "from PyDRP.Models.NNlayers import AttnDropout\n",
    "import pandas as pd\n",
    "import torch_geometric\n",
    "from torch import nn\n",
    "from torch_geometric import nn as gnn\n",
    "import torchmetrics\n",
    "from PyDRP.Models.metrics import ElementwiseMetric\n",
    "from pprint import pprint"
   ]
  },
  {
   "cell_type": "code",
   "execution_count": 2,
   "id": "c1f86681-ba26-4cf4-859e-27dd639728cf",
   "metadata": {},
   "outputs": [
    {
     "name": "stderr",
     "output_type": "stream",
     "text": [
      "Found local copy...\n",
      "Loading...\n",
      "Done!\n",
      "Some weights of the model checkpoint at Rostlab/prot_bert were not used when initializing BertForMaskedLM: ['cls.seq_relationship.bias', 'cls.seq_relationship.weight']\n",
      "- This IS expected if you are initializing BertForMaskedLM from the checkpoint of a model trained on another task or with another architecture (e.g. initializing a BertForSequenceClassification model from a BertForPreTraining model).\n",
      "- This IS NOT expected if you are initializing BertForMaskedLM from the checkpoint of a model that you expect to be exactly identical (initializing a BertForSequenceClassification model from a BertForSequenceClassification model).\n"
     ]
    }
   ],
   "source": [
    "manager = DTIDatasetManager(TDCDTIWrapper(DTI(name = 'BindingDB_Kd')),\n",
    "                 LogMinMaxScaling(),\n",
    "                 GraphCreator(),\n",
    "                 BertProteinFeaturizer(),\n",
    "                 partition_column=\"PROTEIN_ID\")"
   ]
  },
  {
   "cell_type": "code",
   "execution_count": 3,
   "id": "87cfe96b-8bb3-4a95-a163-ac3d93127d5a",
   "metadata": {},
   "outputs": [],
   "source": [
    "protein_dict = manager.get_proteins()\n",
    "drug_dict = manager.get_drugs()\n",
    "train, test, val = manager.get_partition(0)"
   ]
  },
  {
   "cell_type": "code",
   "execution_count": 4,
   "id": "a004d425-d5d1-4e65-bd1d-04f822f6353b",
   "metadata": {},
   "outputs": [],
   "source": [
    "train_dataset = TorchProteinsGraphsDataset(train, drug_dict, protein_dict)\n",
    "test_dataset = TorchProteinsGraphsDataset(val, drug_dict, protein_dict)"
   ]
  },
  {
   "cell_type": "code",
   "execution_count": 5,
   "id": "7b29fe14-e377-476a-bd89-9db8868c84fe",
   "metadata": {},
   "outputs": [],
   "source": [
    "train_dataloader = torch.utils.data.DataLoader(train_dataset, batch_size = 128,\n",
    "                                               collate_fn = torch_geometric.data.Batch.from_data_list,\n",
    "                                               shuffle=True,\n",
    "                                              num_workers = 16)\n",
    "test_dataloader = torch.utils.data.DataLoader(test_dataset, batch_size = 128,\n",
    "                                               collate_fn = torch_geometric.data.Batch.from_data_list, num_workers = 16)"
   ]
  },
  {
   "cell_type": "code",
   "execution_count": 6,
   "id": "33cfab28-a71e-4b5c-a6f3-eddcf4cdf49e",
   "metadata": {},
   "outputs": [],
   "source": [
    "model = GNNProteinDrugEncoderDecoder(protein_encoder = nn.Identity(),\n",
    "                         drug_encoder = GTEncoder(embed_dim = 256),\n",
    "                         protein_adapter = ProteinConvPooling(hidden_dim = 512, output_dim=256),\n",
    "                         drug_adapter = GNNAttnDrugPooling(embed_dim = 256, hidden_dim = 1024, output_embed_dim=256, p_dropout_attn=0.2),\n",
    "                         decoder = FCDecoder(256+256, 2048, p_dropout_2 = 0.3))\n",
    "                         #decoder = NonlinearDotDecoder(256, 1024, 64, p_dropout_1=0.3, p_dropout_2 = 0.3))\n",
    "optim = torch.optim.Adam(model.parameters(), 0.001)\n",
    "scheduler = torch.optim.lr_scheduler.ReduceLROnPlateau(optim, patience = 2, factor = 0.75)\n",
    "device = torch.device(\"cuda\")\n",
    "model.to(device)\n",
    "torch.backends.cudnn.benchmark = True"
   ]
  },
  {
   "cell_type": "code",
   "execution_count": 7,
   "id": "274eacb1-982b-414d-85a8-b5a7cb500e0b",
   "metadata": {},
   "outputs": [
    {
     "data": {
      "application/vnd.jupyter.widget-view+json": {
       "model_id": "902d3edf6b7349c29464fefee0e92d04",
       "version_major": 2,
       "version_minor": 0
      },
      "text/plain": [
       "  0%|          | 0/381 [00:00<?, ?it/s]"
      ]
     },
     "metadata": {},
     "output_type": "display_data"
    },
    {
     "name": "stdout",
     "output_type": "stream",
     "text": [
      "0\n",
      "{'MeanSquaredError_test': 0.0889548659324646,\n",
      " 'MeanSquaredError_train': 0.15374061465263367,\n",
      " 'PearsonCorrCoef_test': 0.5811170339584351,\n",
      " 'PearsonCorrCoef_train': 0.2567463219165802,\n",
      " 'R_average_test': 0.14781658351421356,\n",
      " 'R_average_train': 0.06337512284517288}\n"
     ]
    },
    {
     "data": {
      "application/vnd.jupyter.widget-view+json": {
       "model_id": "17f42746fcce4e278f0502cbca9ed8c7",
       "version_major": 2,
       "version_minor": 0
      },
      "text/plain": [
       "  0%|          | 0/381 [00:00<?, ?it/s]"
      ]
     },
     "metadata": {},
     "output_type": "display_data"
    },
    {
     "name": "stdout",
     "output_type": "stream",
     "text": [
      "1\n",
      "{'MeanSquaredError_test': 0.09694498032331467,\n",
      " 'MeanSquaredError_train': 0.1000029668211937,\n",
      " 'PearsonCorrCoef_test': 0.5284720659255981,\n",
      " 'PearsonCorrCoef_train': 0.5473455786705017,\n",
      " 'R_average_test': 0.14151397347450256,\n",
      " 'R_average_train': 0.14765235781669617}\n"
     ]
    }
   ],
   "source": [
    "from tqdm.notebook import trange, tqdm\n",
    "model.to(device)\n",
    "mse = nn.MSELoss()\n",
    "metrics = torchmetrics.MetricCollection([torchmetrics.MeanSquaredError(), torchmetrics.PearsonCorrCoef()]).to(device)\n",
    "elm = ElementwiseMetric(average=\"lines\")\n",
    "for epoch in range(2):\n",
    "    model.train()\n",
    "    elm.reset()\n",
    "    metrics.reset()\n",
    "    with tqdm(total=len(train_dataloader)) as pbar:\n",
    "        for n_b, b in enumerate(train_dataloader):\n",
    "            if ((n_b + 1) % 10) == 0:\n",
    "                pbar.update(10)\n",
    "            b = b.to(device)\n",
    "            y_pred = model(b)\n",
    "            l = mse(y_pred.squeeze(), b[\"y\"].squeeze())\n",
    "            l.backward()\n",
    "            optim.step()\n",
    "            with torch.no_grad():\n",
    "                metrics.update(y_pred.squeeze(), b[\"y\"].squeeze())\n",
    "                elm.update(y_pred.squeeze(), b[\"y\"].squeeze(), b[\"DRUG_ID\"], b[\"PROTEIN_ID\"])\n",
    "            optim.zero_grad()\n",
    "    metric_dict_train = {it[0] + \"_train\":it[1].cpu().item() for it in metrics.compute().items()}\n",
    "    metric_dict_train[\"R_average_train\"] = elm.compute().item()\n",
    "    model.eval()\n",
    "    metrics.reset()\n",
    "    elm.reset()\n",
    "    scheduler.step(metric_dict_train[\"MeanSquaredError_train\"])\n",
    "    with torch.no_grad():\n",
    "        for b in test_dataloader:\n",
    "            b = b.to(device)\n",
    "            y_pred = model(b)\n",
    "            metrics.update(y_pred.squeeze(), b[\"y\"].squeeze())\n",
    "            elm.update(y_pred.squeeze(), b[\"y\"].squeeze(), b[\"DRUG_ID\"], b[\"PROTEIN_ID\"])\n",
    "    metric_dict_test = {it[0] + \"_test\":it[1].cpu().item() for it in metrics.compute().items()}\n",
    "    metric_dict_train[\"R_average_test\"] = elm.compute().item()\n",
    "    metric_dict = {**metric_dict_test, **metric_dict_train}\n",
    "    print(epoch)\n",
    "    pprint(metric_dict)"
   ]
  }
 ],
 "metadata": {
  "kernelspec": {
   "display_name": "mpi_python",
   "language": "python",
   "name": "mpi_python"
  },
  "language_info": {
   "codemirror_mode": {
    "name": "ipython",
    "version": 3
   },
   "file_extension": ".py",
   "mimetype": "text/x-python",
   "name": "python",
   "nbconvert_exporter": "python",
   "pygments_lexer": "ipython3",
   "version": "3.9.7"
  }
 },
 "nbformat": 4,
 "nbformat_minor": 5
}
