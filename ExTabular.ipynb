{
 "cells": [
  {
   "cell_type": "code",
   "execution_count": 1,
   "id": "c1a10cf8-71a4-4d07-a142-4a0afc2dd6ec",
   "metadata": {},
   "outputs": [
    {
     "name": "stderr",
     "output_type": "stream",
     "text": [
      "<frozen importlib._bootstrap>:228: RuntimeWarning: scipy._lib.messagestream.MessageStream size changed, may indicate binary incompatibility. Expected 56 from C header, got 64 from PyObject\n"
     ]
    }
   ],
   "source": [
    "import pandas as pd\n",
    "from src import DatasetManager, MinMaxScaling, IdentityLineFeaturizer, IdentityDrugFeaturizer, IdentityPipeline\n",
    "from GDSC import GDSCPreprocessingPipeline, GDSCRawPreprocessingPipeline\n",
    "from PRISM import PRISMPreprocessingPipeline\n",
    "from CTRPv2 import CTRPv2PreprocessingPipeline\n",
    "from NI60 import NI60PreprocessingPipeline\n",
    "import os\n",
    "import numpy as np\n",
    "from fingerprints import FingerprintFeaturizer"
   ]
  },
  {
   "cell_type": "code",
   "execution_count": 2,
   "id": "50f9b001-a91f-4e87-8d02-6a3332786230",
   "metadata": {},
   "outputs": [],
   "source": [
    "paccmann_genes = pd.read_csv(\"https://raw.githubusercontent.com/prassepaul/mlmed_ranking/main/data/gdsc_data/paccmann_gene_list.txt\", index_col=None, header=None).to_numpy().squeeze().tolist()"
   ]
  },
  {
   "cell_type": "code",
   "execution_count": 3,
   "id": "1f8cdd10-4909-42f0-8e48-6193129d77d7",
   "metadata": {},
   "outputs": [],
   "source": [
    "manager = DatasetManager(processing_pipeline = GDSCPreprocessingPipeline(target = \"LN_IC50\",\n",
    "                                                                         gene_subset = paccmann_genes,\n",
    "                                                                        cell_lines = \"expression&mutation\"),\n",
    "                        target_processor = IdentityPipeline(),\n",
    "                        partition_column = \"DRUG_ID\",\n",
    "                        k = 25,\n",
    "                        drug_featurizer = FingerprintFeaturizer(),\n",
    "                        line_featurizer = IdentityLineFeaturizer())"
   ]
  },
  {
   "cell_type": "code",
   "execution_count": 4,
   "id": "cfbcc7f0-e315-4af5-9d5f-5f7d4f7e72b9",
   "metadata": {},
   "outputs": [],
   "source": [
    "line_dict = manager.get_cell_lines()\n",
    "drug_dict = manager.get_drugs()"
   ]
  },
  {
   "cell_type": "code",
   "execution_count": 5,
   "id": "28b68eea-4807-4211-833e-1c79496c3128",
   "metadata": {},
   "outputs": [],
   "source": [
    "from sklearn.linear_model import Ridge\n",
    "from scipy.stats import pearsonr\n",
    "from tqdm import tqdm"
   ]
  },
  {
   "cell_type": "code",
   "execution_count": 6,
   "id": "cb4d9323-adb5-4a63-89ef-27caef7f9b5d",
   "metadata": {},
   "outputs": [
    {
     "name": "stderr",
     "output_type": "stream",
     "text": [
      "100%|███████████████████████████████████████████| 25/25 [12:24<00:00, 29.80s/it]\n"
     ]
    }
   ],
   "source": [
    "rs = []\n",
    "for i in tqdm(range(25)):\n",
    "    train, val, test = manager.get_partition(i)\n",
    "    data_train = manager.get_tabular_dataset(train, line_dict, drug_dict)\n",
    "    data_val = manager.get_tabular_dataset(val, line_dict, drug_dict)\n",
    "    X_train = data_train.drop(\"Y\", axis=1)\n",
    "    y_train = data_train.loc[:, \"Y\"]\n",
    "    X_val = data_val.drop(\"Y\", axis=1)\n",
    "    y_val = data_val.loc[:, \"Y\"]\n",
    "    clf = Ridge()\n",
    "    clf.fit(X_train, y_train)\n",
    "    y_pred = clf.predict(X_val)\n",
    "    r = pearsonr(y_pred, y_val)\n",
    "    rs += [r]"
   ]
  },
  {
   "cell_type": "code",
   "execution_count": 9,
   "id": "1106cabf-25b0-4200-b269-d2b3cd92613f",
   "metadata": {},
   "outputs": [
    {
     "name": "stdout",
     "output_type": "stream",
     "text": [
      "Cross-validated R (observed-predicted) using Ridge: 0.4131462927113253\n"
     ]
    }
   ],
   "source": [
    "print(f\"Cross-validated R (observed-predicted) using Ridge: {np.array(rs)[:, 0].mean()}\")"
   ]
  }
 ],
 "metadata": {
  "kernelspec": {
   "display_name": "mpi_python",
   "language": "python",
   "name": "mpi_python"
  },
  "language_info": {
   "codemirror_mode": {
    "name": "ipython",
    "version": 3
   },
   "file_extension": ".py",
   "mimetype": "text/x-python",
   "name": "python",
   "nbconvert_exporter": "python",
   "pygments_lexer": "ipython3",
   "version": "3.9.7"
  }
 },
 "nbformat": 4,
 "nbformat_minor": 5
}
