{
 "cells": [
  {
   "cell_type": "code",
   "execution_count": 1,
   "id": "90ae18ed-7de3-4525-b48d-08c1a9cd2a4f",
   "metadata": {},
   "outputs": [
    {
     "name": "stderr",
     "output_type": "stream",
     "text": [
      "<frozen importlib._bootstrap>:228: RuntimeWarning: scipy._lib.messagestream.MessageStream size changed, may indicate binary incompatibility. Expected 56 from C header, got 64 from PyObject\n"
     ]
    }
   ],
   "source": [
    "import pandas as pd\n",
    "from src import DatasetManager, MinMaxScaling, TensorLineFeaturizer, IdentityDrugFeaturizer, IdentityPipeline\n",
    "from GDSC import GDSCPreprocessingPipeline, GDSCRawPreprocessingPipeline\n",
    "from PRISM import PRISMPreprocessingPipeline\n",
    "from CTRPv2 import CTRPv2PreprocessingPipeline\n",
    "from NI60 import NI60PreprocessingPipeline\n",
    "import os\n",
    "import numpy as np\n",
    "from GraphCreator import GraphCreator"
   ]
  },
  {
   "cell_type": "code",
   "execution_count": 2,
   "id": "5a61f607-4fd8-481a-9bdc-62f90bae4f3a",
   "metadata": {},
   "outputs": [],
   "source": [
    "paccmann_genes = pd.read_csv(\"https://raw.githubusercontent.com/prassepaul/mlmed_ranking/main/data/gdsc_data/paccmann_gene_list.txt\", index_col=None, header=None).to_numpy().squeeze().tolist()"
   ]
  },
  {
   "cell_type": "code",
   "execution_count": 3,
   "id": "350c61a1-d40f-4569-9d49-1bd5645ce7cd",
   "metadata": {},
   "outputs": [],
   "source": [
    "manager = DatasetManager(processing_pipeline = NI60PreprocessingPipeline(target = \"TGI\",\n",
    "                                                                         gene_subset = paccmann_genes),\n",
    "                        target_processor = IdentityPipeline(),\n",
    "                        partition_column = \"DRUG_ID\",\n",
    "                        k = 25,\n",
    "                        drug_featurizer = GraphCreator(),\n",
    "                        line_featurizer = TensorLineFeaturizer())"
   ]
  },
  {
   "cell_type": "code",
   "execution_count": 4,
   "id": "8a089795-2384-4560-a8c1-0315fd7c8c09",
   "metadata": {},
   "outputs": [],
   "source": [
    "train, val, test = manager.get_partition(0)"
   ]
  },
  {
   "cell_type": "code",
   "execution_count": 5,
   "id": "9027883e-3a38-4260-aebc-4915f672969e",
   "metadata": {},
   "outputs": [
    {
     "data": {
      "text/html": [
       "<div>\n",
       "<style scoped>\n",
       "    .dataframe tbody tr th:only-of-type {\n",
       "        vertical-align: middle;\n",
       "    }\n",
       "\n",
       "    .dataframe tbody tr th {\n",
       "        vertical-align: top;\n",
       "    }\n",
       "\n",
       "    .dataframe thead th {\n",
       "        text-align: right;\n",
       "    }\n",
       "</style>\n",
       "<table border=\"1\" class=\"dataframe\">\n",
       "  <thead>\n",
       "    <tr style=\"text-align: right;\">\n",
       "      <th></th>\n",
       "      <th>CELL_ID</th>\n",
       "      <th>DRUG_ID</th>\n",
       "      <th>Y</th>\n",
       "    </tr>\n",
       "  </thead>\n",
       "  <tbody>\n",
       "    <tr>\n",
       "      <th>0</th>\n",
       "      <td>ACH-000201</td>\n",
       "      <td>740</td>\n",
       "      <td>-7.6021</td>\n",
       "    </tr>\n",
       "    <tr>\n",
       "      <th>1</th>\n",
       "      <td>ACH-000201</td>\n",
       "      <td>752</td>\n",
       "      <td>-5.8269</td>\n",
       "    </tr>\n",
       "    <tr>\n",
       "      <th>3</th>\n",
       "      <td>ACH-000201</td>\n",
       "      <td>3053</td>\n",
       "      <td>-8.0765</td>\n",
       "    </tr>\n",
       "    <tr>\n",
       "      <th>4</th>\n",
       "      <td>ACH-000201</td>\n",
       "      <td>3088</td>\n",
       "      <td>-6.9898</td>\n",
       "    </tr>\n",
       "    <tr>\n",
       "      <th>5</th>\n",
       "      <td>ACH-000201</td>\n",
       "      <td>6396</td>\n",
       "      <td>-3.7542</td>\n",
       "    </tr>\n",
       "    <tr>\n",
       "      <th>...</th>\n",
       "      <td>...</td>\n",
       "      <td>...</td>\n",
       "      <td>...</td>\n",
       "    </tr>\n",
       "    <tr>\n",
       "      <th>814290</th>\n",
       "      <td>ACH-000828</td>\n",
       "      <td>26980</td>\n",
       "      <td>-5.1412</td>\n",
       "    </tr>\n",
       "    <tr>\n",
       "      <th>814291</th>\n",
       "      <td>ACH-000828</td>\n",
       "      <td>27640</td>\n",
       "      <td>-2.8850</td>\n",
       "    </tr>\n",
       "    <tr>\n",
       "      <th>814292</th>\n",
       "      <td>ACH-000828</td>\n",
       "      <td>82151</td>\n",
       "      <td>-6.9236</td>\n",
       "    </tr>\n",
       "    <tr>\n",
       "      <th>814293</th>\n",
       "      <td>ACH-000828</td>\n",
       "      <td>125066</td>\n",
       "      <td>-4.6953</td>\n",
       "    </tr>\n",
       "    <tr>\n",
       "      <th>814295</th>\n",
       "      <td>ACH-000828</td>\n",
       "      <td>409962</td>\n",
       "      <td>-3.7953</td>\n",
       "    </tr>\n",
       "  </tbody>\n",
       "</table>\n",
       "<p>749101 rows × 3 columns</p>\n",
       "</div>"
      ],
      "text/plain": [
       "           CELL_ID  DRUG_ID       Y\n",
       "0       ACH-000201      740 -7.6021\n",
       "1       ACH-000201      752 -5.8269\n",
       "3       ACH-000201     3053 -8.0765\n",
       "4       ACH-000201     3088 -6.9898\n",
       "5       ACH-000201     6396 -3.7542\n",
       "...            ...      ...     ...\n",
       "814290  ACH-000828    26980 -5.1412\n",
       "814291  ACH-000828    27640 -2.8850\n",
       "814292  ACH-000828    82151 -6.9236\n",
       "814293  ACH-000828   125066 -4.6953\n",
       "814295  ACH-000828   409962 -3.7953\n",
       "\n",
       "[749101 rows x 3 columns]"
      ]
     },
     "execution_count": 5,
     "metadata": {},
     "output_type": "execute_result"
    }
   ],
   "source": [
    "train"
   ]
  },
  {
   "cell_type": "code",
   "execution_count": 7,
   "id": "7f0e7c46-487e-4102-b868-a34bde15effe",
   "metadata": {},
   "outputs": [
    {
     "data": {
      "text/plain": [
       "tensor([6.5590, 2.9561, 1.7181,  ..., 5.2638, 0.0000, 0.0000])"
      ]
     },
     "execution_count": 7,
     "metadata": {},
     "output_type": "execute_result"
    }
   ],
   "source": [
    "line_dict = manager.get_cell_lines()\n",
    "line_dict[\"ACH-000201\"]"
   ]
  },
  {
   "cell_type": "code",
   "execution_count": 8,
   "id": "2c0d5531-ed5b-43a3-af9c-f14df7f8e01e",
   "metadata": {},
   "outputs": [],
   "source": [
    "drug_dict = manager.get_drugs()"
   ]
  },
  {
   "cell_type": "code",
   "execution_count": 9,
   "id": "0e9e0390-8113-4e09-91c0-9fd72cd35021",
   "metadata": {},
   "outputs": [
    {
     "data": {
      "text/plain": [
       "Data(x=[9, 79], edge_index=[2, 18], edge_attr=[18, 10])"
      ]
     },
     "execution_count": 9,
     "metadata": {},
     "output_type": "execute_result"
    }
   ],
   "source": [
    "drug_dict[1]"
   ]
  },
  {
   "cell_type": "code",
   "execution_count": 10,
   "id": "025f5376-39b5-48c7-a1ad-16ecbe71e185",
   "metadata": {},
   "outputs": [],
   "source": [
    "from TorchDatasets import TorchGraphsDataset"
   ]
  },
  {
   "cell_type": "code",
   "execution_count": 11,
   "id": "d8e946de-680b-4766-92b6-231f718d068d",
   "metadata": {},
   "outputs": [],
   "source": [
    "train_dataset = TorchGraphsDataset(data=train,\n",
    "                   drug_dict = drug_dict,\n",
    "                   line_dict = line_dict)"
   ]
  },
  {
   "cell_type": "code",
   "execution_count": 12,
   "id": "aef31515-02d1-47ae-9867-a3d9c29e675a",
   "metadata": {},
   "outputs": [
    {
     "data": {
      "text/plain": [
       "Data(x=[11, 79], edge_index=[2, 24], edge_attr=[24, 10], y=[1], cell=[2087])"
      ]
     },
     "execution_count": 12,
     "metadata": {},
     "output_type": "execute_result"
    }
   ],
   "source": [
    "train_dataset[1]"
   ]
  }
 ],
 "metadata": {
  "kernelspec": {
   "display_name": "mpi_python",
   "language": "python",
   "name": "mpi_python"
  },
  "language_info": {
   "codemirror_mode": {
    "name": "ipython",
    "version": 3
   },
   "file_extension": ".py",
   "mimetype": "text/x-python",
   "name": "python",
   "nbconvert_exporter": "python",
   "pygments_lexer": "ipython3",
   "version": "3.9.7"
  }
 },
 "nbformat": 4,
 "nbformat_minor": 5
}
