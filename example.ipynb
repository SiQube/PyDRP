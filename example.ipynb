{
 "cells": [
  {
   "cell_type": "code",
   "execution_count": 1,
   "id": "90ae18ed-7de3-4525-b48d-08c1a9cd2a4f",
   "metadata": {},
   "outputs": [
    {
     "name": "stderr",
     "output_type": "stream",
     "text": [
      "<frozen importlib._bootstrap>:228: RuntimeWarning: scipy._lib.messagestream.MessageStream size changed, may indicate binary incompatibility. Expected 56 from C header, got 64 from PyObject\n"
     ]
    }
   ],
   "source": [
    "import pandas as pd\n",
    "from src import DatasetManager, MinMaxScaling, IdentityLineFeaturizer\n",
    "from GDSC import GDSCPreprocessingPipeline\n",
    "import os\n",
    "import numpy as np\n",
    "from GraphCreator import GraphCreator"
   ]
  },
  {
   "cell_type": "code",
   "execution_count": 2,
   "id": "504b4984-531c-42d4-93d9-a0aabd6c4d98",
   "metadata": {},
   "outputs": [],
   "source": [
    "from src import DrugFeaturizer"
   ]
  },
  {
   "cell_type": "code",
   "execution_count": 3,
   "id": "350c61a1-d40f-4569-9d49-1bd5645ce7cd",
   "metadata": {},
   "outputs": [],
   "source": [
    "manager = DatasetManager(GDSCPreprocessingPipeline(dataset = \"GDSC1\",\n",
    "                                                   target = \"LN_IC50\"),\n",
    "                        MinMaxScaling(),\n",
    "                        partition_column = \"DRUG_ID\",\n",
    "                        drug_featurizer = GraphCreator(),\n",
    "                        line_featurizer = IdentityLineFeaturizer())"
   ]
  },
  {
   "cell_type": "code",
   "execution_count": 4,
   "id": "8a089795-2384-4560-a8c1-0315fd7c8c09",
   "metadata": {},
   "outputs": [],
   "source": [
    "train, val, test = manager.get_partition(2)"
   ]
  },
  {
   "cell_type": "code",
   "execution_count": 5,
   "id": "320d3273-3837-4ad8-bc50-03c9b465d890",
   "metadata": {},
   "outputs": [
    {
     "data": {
      "text/html": [
       "<div>\n",
       "<style scoped>\n",
       "    .dataframe tbody tr th:only-of-type {\n",
       "        vertical-align: middle;\n",
       "    }\n",
       "\n",
       "    .dataframe tbody tr th {\n",
       "        vertical-align: top;\n",
       "    }\n",
       "\n",
       "    .dataframe thead th {\n",
       "        text-align: right;\n",
       "    }\n",
       "</style>\n",
       "<table border=\"1\" class=\"dataframe\">\n",
       "  <thead>\n",
       "    <tr style=\"text-align: right;\">\n",
       "      <th></th>\n",
       "      <th>CELL_ID</th>\n",
       "      <th>DRUG_ID</th>\n",
       "      <th>Y</th>\n",
       "    </tr>\n",
       "  </thead>\n",
       "  <tbody>\n",
       "    <tr>\n",
       "      <th>36</th>\n",
       "      <td>683667</td>\n",
       "      <td>Avagacestat</td>\n",
       "      <td>0.194316</td>\n",
       "    </tr>\n",
       "    <tr>\n",
       "      <th>39</th>\n",
       "      <td>683667</td>\n",
       "      <td>BAY-61-3606</td>\n",
       "      <td>0.035514</td>\n",
       "    </tr>\n",
       "    <tr>\n",
       "      <th>47</th>\n",
       "      <td>683667</td>\n",
       "      <td>BX795</td>\n",
       "      <td>0.084189</td>\n",
       "    </tr>\n",
       "    <tr>\n",
       "      <th>74</th>\n",
       "      <td>683667</td>\n",
       "      <td>DMOG</td>\n",
       "      <td>0.414828</td>\n",
       "    </tr>\n",
       "    <tr>\n",
       "      <th>75</th>\n",
       "      <td>683667</td>\n",
       "      <td>Dacinostat</td>\n",
       "      <td>-0.241234</td>\n",
       "    </tr>\n",
       "    <tr>\n",
       "      <th>...</th>\n",
       "      <td>...</td>\n",
       "      <td>...</td>\n",
       "      <td>...</td>\n",
       "    </tr>\n",
       "    <tr>\n",
       "      <th>236767</th>\n",
       "      <td>1674021</td>\n",
       "      <td>JNK Inhibitor VIII</td>\n",
       "      <td>0.361582</td>\n",
       "    </tr>\n",
       "    <tr>\n",
       "      <th>236773</th>\n",
       "      <td>1674021</td>\n",
       "      <td>LCL161</td>\n",
       "      <td>0.282356</td>\n",
       "    </tr>\n",
       "    <tr>\n",
       "      <th>236778</th>\n",
       "      <td>1674021</td>\n",
       "      <td>Lestaurtinib</td>\n",
       "      <td>-0.275991</td>\n",
       "    </tr>\n",
       "    <tr>\n",
       "      <th>236838</th>\n",
       "      <td>1674021</td>\n",
       "      <td>TPCA-1</td>\n",
       "      <td>0.214805</td>\n",
       "    </tr>\n",
       "    <tr>\n",
       "      <th>236846</th>\n",
       "      <td>1674021</td>\n",
       "      <td>Tenovin-6</td>\n",
       "      <td>0.167687</td>\n",
       "    </tr>\n",
       "  </tbody>\n",
       "</table>\n",
       "<p>10129 rows × 3 columns</p>\n",
       "</div>"
      ],
      "text/plain": [
       "        CELL_ID             DRUG_ID         Y\n",
       "36       683667         Avagacestat  0.194316\n",
       "39       683667         BAY-61-3606  0.035514\n",
       "47       683667               BX795  0.084189\n",
       "74       683667                DMOG  0.414828\n",
       "75       683667          Dacinostat -0.241234\n",
       "...         ...                 ...       ...\n",
       "236767  1674021  JNK Inhibitor VIII  0.361582\n",
       "236773  1674021              LCL161  0.282356\n",
       "236778  1674021        Lestaurtinib -0.275991\n",
       "236838  1674021              TPCA-1  0.214805\n",
       "236846  1674021           Tenovin-6  0.167687\n",
       "\n",
       "[10129 rows x 3 columns]"
      ]
     },
     "execution_count": 5,
     "metadata": {},
     "output_type": "execute_result"
    }
   ],
   "source": [
    "val"
   ]
  },
  {
   "cell_type": "code",
   "execution_count": 9,
   "id": "c4fced74-1660-4afb-9206-7c1d08f47019",
   "metadata": {},
   "outputs": [],
   "source": [
    "line_dict = manager.get_cell_lines()"
   ]
  },
  {
   "cell_type": "code",
   "execution_count": 13,
   "id": "7f0e7c46-487e-4102-b868-a34bde15effe",
   "metadata": {},
   "outputs": [
    {
     "data": {
      "text/plain": [
       "array([7.78071324, 2.75325312, 9.96013741, ..., 9.81043016, 3.26691487,\n",
       "       8.45207976])"
      ]
     },
     "execution_count": 13,
     "metadata": {},
     "output_type": "execute_result"
    }
   ],
   "source": [
    "line_dict[683667]"
   ]
  },
  {
   "cell_type": "code",
   "execution_count": 7,
   "id": "2c0d5531-ed5b-43a3-af9c-f14df7f8e01e",
   "metadata": {},
   "outputs": [],
   "source": [
    "drug_dict = manager.get_drugs()"
   ]
  },
  {
   "cell_type": "code",
   "execution_count": 14,
   "id": "0e9e0390-8113-4e09-91c0-9fd72cd35021",
   "metadata": {},
   "outputs": [
    {
     "data": {
      "text/plain": [
       "Data(x=[9, 79], edge_index=[2, 18], edge_attr=[18, 10])"
      ]
     },
     "execution_count": 14,
     "metadata": {},
     "output_type": "execute_result"
    }
   ],
   "source": [
    "drug_dict[\"5-Fluorouracil\"]"
   ]
  }
 ],
 "metadata": {
  "kernelspec": {
   "display_name": "mpi_python",
   "language": "python",
   "name": "mpi_python"
  },
  "language_info": {
   "codemirror_mode": {
    "name": "ipython",
    "version": 3
   },
   "file_extension": ".py",
   "mimetype": "text/x-python",
   "name": "python",
   "nbconvert_exporter": "python",
   "pygments_lexer": "ipython3",
   "version": "3.9.7"
  }
 },
 "nbformat": 4,
 "nbformat_minor": 5
}
